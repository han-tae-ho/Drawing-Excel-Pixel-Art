{
 "cells": [
  {
   "cell_type": "code",
   "execution_count": 2,
   "id": "6b244176-e5d9-47b3-9089-b0d1d98b5157",
   "metadata": {},
   "outputs": [
    {
     "data": {
      "application/vnd.jupyter.widget-view+json": {
       "model_id": "162559b39a424f209f27edd5a54f2939",
       "version_major": 2,
       "version_minor": 0
      },
      "text/plain": [
       "Making Pixel art !:   0%|          | 0/80 [00:00<?, ?it/s]"
      ]
     },
     "metadata": {},
     "output_type": "display_data"
    },
    {
     "name": "stdout",
     "output_type": "stream",
     "text": [
      "Done ! Pixel art saved\n",
      "File name : output.xlsx\n"
     ]
    }
   ],
   "source": [
    "from PIL import Image\n",
    "import numpy as np\n",
    "import matplotlib.pyplot as plt\n",
    "import cv2\n",
    "import openpyxl as xl\n",
    "import timm\n",
    "from openpyxl.styles import Color, PatternFill\n",
    "from tqdm.notebook import trange, tqdm\n",
    "\n",
    "##### set width, height, image_path #####\n",
    "W = 80\n",
    "H = 80\n",
    "img_path = './sample.jpeg'\n",
    "#########################################\n",
    "\n",
    "def rgb_to_hex(arr):\n",
    "    r, g, b, a = arr\n",
    "    return  hex(a)[2:].zfill(2) + hex(r)[2:].zfill(2) + hex(g)[2:].zfill(2) + hex(b)[2:].zfill(2)\n",
    "\n",
    "def img2exl(W, H):\n",
    "    img = Image.open(img_path) # put image path. (file - jpg, png, jpeg ...)\n",
    "    img = img.resize((W, H))\n",
    "    img = np.array(img)\n",
    "\n",
    "    # PatternFill fuction needs aRGB hex prameter.\n",
    "    # so, if input image has not 4 channel, covert it into 4 channel.\n",
    "    if len(img.shape) == 3:\n",
    "        #convert the image from RGBA2RGB\n",
    "        img = cv2.cvtColor(img, cv2.COLOR_RGB2RGBA)\n",
    "    elif len(img.shage) == 2:\n",
    "        img = cv2.cvtColor(img, cv2.COLOR_GRAY2RGBA)\n",
    "\n",
    "\n",
    "\n",
    "    pixels = img.flatten().reshape(-1, 4)\n",
    "\n",
    "    wb = xl.load_workbook('./blueprint.xlsx')\n",
    "    ws = wb.active\n",
    "\n",
    "    i = 0\n",
    "    for row_num in tqdm(range(1,H + 1), desc='Making Pixel art !'): \n",
    "        for col_num in range(1,W + 1):\n",
    "            hex_code = rgb_to_hex(pixels[i])\n",
    "            Fill = PatternFill(start_color=hex_code,\n",
    "                       end_color=hex_code,\n",
    "                       fill_type='solid')\n",
    "            select_cell = ws.cell(row=row_num, column=col_num)\n",
    "            select_cell.fill = Fill\n",
    "            i += 1\n",
    "            \n",
    "    wb.save('output.xlsx')\n",
    "    print('Done ! Pixel art saved')\n",
    "    print('File name : ''output.xlsx''')\n",
    "    \n",
    "if __name__ == \"__main__\":\n",
    "    img2exl(W, H)"
   ]
  },
  {
   "cell_type": "code",
   "execution_count": null,
   "id": "046636e2-3378-4930-9530-6823e90e64bc",
   "metadata": {},
   "outputs": [],
   "source": []
  }
 ],
 "metadata": {
  "kernelspec": {
   "display_name": "Python 3 (ipykernel)",
   "language": "python",
   "name": "python3"
  },
  "language_info": {
   "codemirror_mode": {
    "name": "ipython",
    "version": 3
   },
   "file_extension": ".py",
   "mimetype": "text/x-python",
   "name": "python",
   "nbconvert_exporter": "python",
   "pygments_lexer": "ipython3",
   "version": "3.7.11"
  }
 },
 "nbformat": 4,
 "nbformat_minor": 5
}
